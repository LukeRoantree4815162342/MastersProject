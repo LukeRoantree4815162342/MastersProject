{
 "cells": [
  {
   "cell_type": "code",
   "execution_count": null,
   "metadata": {},
   "outputs": [],
   "source": [
    "import numpy as np\n",
    "import matplotlib.pyplot as plt\n",
    "import seaborn as sns\n",
    "%matplotlib notebook\n",
    "from numba import jit, autojit\n",
    "from scipy.sparse import csc_matrix, dia_matrix, diags\n",
    "from scipy.sparse.linalg import eigs, eigsh"
   ]
  },
  {
   "cell_type": "code",
   "execution_count": null,
   "metadata": {},
   "outputs": [],
   "source": [
    "x = np.linspace(-10,10,10001)"
   ]
  },
  {
   "cell_type": "code",
   "execution_count": null,
   "metadata": {},
   "outputs": [],
   "source": [
    "# Initialise constants for the softcore potential:\n",
    "v = 2 # set =0 for particle in a box case\n",
    "n = 2\n",
    "b = 2\n",
    "\n",
    "@np.vectorize\n",
    "def potential(xk):\n",
    "    numerator = -v\n",
    "    denominator = (np.abs(xk)**n + b**n)**(1/n)\n",
    "    return numerator/denominator"
   ]
  },
  {
   "cell_type": "code",
   "execution_count": null,
   "metadata": {},
   "outputs": [],
   "source": [
    "\n",
    "def gen_Hamiltonian(x_arr):\n",
    "    dx2 = -1/(2*(np.abs(x_arr[0]-x_arr[1])**2))\n",
    "    H = np.zeros((len(x_arr),len(x_arr)))\n",
    "    for i,val in enumerate(x_arr):\n",
    "        H[i][i] = potential(val) - (5/2)*dx2\n",
    "        if i-1>=0:\n",
    "            H[i][i-1] = (4/3)*dx2\n",
    "        if (i+1)<len(x_arr):\n",
    "            H[i][i+1] = (4/3)*dx2\n",
    "        if i-2>=0:\n",
    "            H[i][i-2] = (-1/12)*dx2\n",
    "        if (i+2)<len(x_arr):\n",
    "            H[i][i+2] = (-1/12)*dx2\n",
    "    return H\n",
    "\n",
    "@autojit\n",
    "def gen_diag_Hamiltonian(x_arr):\n",
    "    \n",
    "    dx2 = -1/(2*(np.abs(x_arr[0]-x_arr[1])**2))\n",
    "    V = potential(x_arr)\n",
    "    \n",
    "    centre_diag = V - (5/2)*dx2\n",
    "    one_off_diag = (4/3)*np.ones_like(x_arr[:-1])*dx2    \n",
    "    two_off_diag = -(1/12)*np.ones_like(x_arr[:-2])*dx2\n",
    "    \n",
    "    H = diags([centre_diag,one_off_diag,one_off_diag,two_off_diag,two_off_diag],[0,1,-1,2,-2])\n",
    "    return H"
   ]
  },
  {
   "cell_type": "code",
   "execution_count": null,
   "metadata": {},
   "outputs": [],
   "source": [
    "H = gen_diag_Hamiltonian(x)"
   ]
  },
  {
   "cell_type": "code",
   "execution_count": null,
   "metadata": {},
   "outputs": [],
   "source": [
    "# biggest_abs_val = eigs(H,k=1)[0][0]\n",
    "biggest_abs_val = 55\n",
    "eig_vals,eig_vecs = eigsh(H, k=5, sigma=-biggest_abs_val)\n",
    "#pairs = eigs(H, k=len(x)-2) # assigns pairs to be a tuple with 2 elements; eigenvalues and eigenvectors\n",
    "#eig_vals = [x for x,y in sorted(zip(*pairs))] # *pairs unpacks pairs into two arrays\n",
    "#eig_vecs = [y for x,y in sorted(zip(*pairs))]"
   ]
  },
  {
   "cell_type": "code",
   "execution_count": null,
   "metadata": {},
   "outputs": [],
   "source": [
    "print(H.data.nbytes/(1024**2)) # 10million x 10million matrix\n",
    "print(np.random.rand(7000,7000).nbytes/(1024**2))\n",
    "plt.figure()\n",
    "plt.plot(x, eig_vecs[:,0])"
   ]
  },
  {
   "cell_type": "code",
   "execution_count": null,
   "metadata": {},
   "outputs": [],
   "source": [
    " # re-write this, don't need an array\n",
    "dt = 1e-8\n",
    "def time_step(previous_eigstate, dt):\n",
    "    evolved_part = (H*previous_eigstate)\n",
    "    new_eigstate = previous_eigstate + 1j*dt*evolved_part\n",
    "    return new_eigstate"
   ]
  },
  {
   "cell_type": "code",
   "execution_count": null,
   "metadata": {},
   "outputs": [],
   "source": [
    "import matplotlib.animation as animation\n",
    "\n",
    "\n",
    "def data_gen(t=0):\n",
    "    i = 0\n",
    "    previous_eigstate = eig_vecs[:,0]\n",
    "    while i < 1000000:\n",
    "        i += 1\n",
    "        for j in range(1000):\n",
    "            updated_eigestate = time_step(previous_eigstate, dt)\n",
    "            previous_eigstate = updated_eigestate\n",
    "        yield x, updated_eigestate, i\n",
    "\n",
    "\n",
    "def init():\n",
    "    ax.set_ylim(-0.5, 0.5)\n",
    "    ax.set_xlim(-10, 10)\n",
    "    del xdata[:]\n",
    "    del ydata[:]\n",
    "    line.set_data(xdata, ydata)\n",
    "    return line,\n",
    "\n",
    "fig, ax = plt.subplots()\n",
    "line, = ax.plot([], [], lw=2)\n",
    "ax.grid()\n",
    "xdata, ydata = [], []\n",
    "\n",
    "\n",
    "def run(data):\n",
    "    # update the data\n",
    "    x, y, t = data\n",
    "    xdata = x\n",
    "    ydata = y\n",
    "    xmin, xmax = ax.get_xlim()\n",
    "    ax.set_label('test')\n",
    "    line.set_data(xdata, ydata)\n",
    "\n",
    "    return line,\n",
    "\n",
    "ani = animation.FuncAnimation(fig, run, data_gen, blit=False, interval=10,\n",
    "                              repeat=False, init_func=init,)\n",
    "plt.show()"
   ]
  },
  {
   "cell_type": "code",
   "execution_count": null,
   "metadata": {},
   "outputs": [],
   "source": []
  },
  {
   "cell_type": "code",
   "execution_count": null,
   "metadata": {},
   "outputs": [],
   "source": []
  }
 ],
 "metadata": {
  "kernelspec": {
   "display_name": "Python 3",
   "language": "python",
   "name": "python3"
  },
  "language_info": {
   "codemirror_mode": {
    "name": "ipython",
    "version": 3
   },
   "file_extension": ".py",
   "mimetype": "text/x-python",
   "name": "python",
   "nbconvert_exporter": "python",
   "pygments_lexer": "ipython3",
   "version": "3.6.5"
  }
 },
 "nbformat": 4,
 "nbformat_minor": 2
}
