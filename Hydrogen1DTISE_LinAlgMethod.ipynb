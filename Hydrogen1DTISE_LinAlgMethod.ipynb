{
 "cells": [
  {
   "cell_type": "code",
   "execution_count": null,
   "metadata": {},
   "outputs": [],
   "source": [
    "import numpy as np\n",
    "import matplotlib.pyplot as plt\n",
    "import seaborn as sns\n",
    "%matplotlib notebook\n",
    "from numba import jit, autojit\n",
    "from scipy.sparse import csc_matrix\n",
    "from scipy.sparse.linalg import eigs, eigsh"
   ]
  },
  {
   "cell_type": "code",
   "execution_count": null,
   "metadata": {},
   "outputs": [],
   "source": [
    "x = np.linspace(-100,100,10001)\n"
   ]
  },
  {
   "cell_type": "code",
   "execution_count": null,
   "metadata": {},
   "outputs": [],
   "source": [
    "# Initialise constants for the softcore potential:\n",
    "v = 2 # set =0 for particle in a box case\n",
    "n = 2\n",
    "b = 2\n",
    "def potential(xk):\n",
    "    numerator = -v\n",
    "    denominator = (np.abs(xk)**n + b**n)**(1/n)\n",
    "    return numerator/denominator"
   ]
  },
  {
   "cell_type": "code",
   "execution_count": null,
   "metadata": {},
   "outputs": [],
   "source": [
    "@autojit # try to speed up hamiltonian generation a little\n",
    "def gen_simple_CFD_Hamiltonian(x_arr):\n",
    "    \"\"\"\n",
    "    Assumes a linearly spaced x-array\n",
    "    \"\"\"\n",
    "    dx2 = -1/(2*(np.abs(x_arr[0]-x_arr[1])**2))\n",
    "    H = np.zeros((len(x_arr),len(x_arr)))\n",
    "    for i,val in enumerate(x_arr):\n",
    "        H[i][i] = potential(val) - 2*dx2\n",
    "        if i-1>=0:\n",
    "            H[i][i-1] = dx2\n",
    "        if (i+1)<len(x_arr):\n",
    "            H[i][i+1] = dx2\n",
    "    return H\n",
    "\n",
    "@autojit\n",
    "def gen_better_CFD_Hamiltonian(x_arr):\n",
    "    \"\"\"\n",
    "    Assumes a linearly spaced x-array\n",
    "    \"\"\"\n",
    "    dx2 = -1/(2*(np.abs(x_arr[0]-x_arr[1])**2))\n",
    "    H = np.zeros((len(x_arr),len(x_arr)))\n",
    "    for i,val in enumerate(x_arr):\n",
    "        H[i][i] = potential(val) - (5/2)*dx2\n",
    "        if i-1>=0:\n",
    "            H[i][i-1] = (4/3)*dx2\n",
    "        if (i+1)<len(x_arr):\n",
    "            H[i][i+1] = (4/3)*dx2\n",
    "        if i-2>=0:\n",
    "            H[i][i-2] = (-1/12)*dx2\n",
    "        if (i+2)<len(x_arr):\n",
    "            H[i][i+2] = (-1/12)*dx2\n",
    "    return H\n",
    "\n",
    "@autojit\n",
    "def gen_simple_FFD_Hamiltonian(x_arr):\n",
    "    \"\"\"\n",
    "    Assumes a linearly spaced x-array\n",
    "    \"\"\"\n",
    "    dx2 = -1/(2*(np.abs(x_arr[0]-x_arr[1])**2))\n",
    "    H = np.zeros((len(x_arr),len(x_arr)))\n",
    "    for i,val in enumerate(x_arr):\n",
    "        H[i][i] = potential(val) + dx2\n",
    "        if (i+1)<len(x_arr):\n",
    "            H[i][i+1] = -2*dx2\n",
    "        if (i+2)<len(x_arr):\n",
    "            H[i][i+2] = dx2\n",
    "    return H\n",
    "\n",
    "@autojit\n",
    "def gen_simple_BFD_Hamiltonian(x_arr):\n",
    "    \"\"\"\n",
    "    Assumes a linearly spaced x-array\n",
    "    \"\"\"\n",
    "    dx2 = -1/(2*(np.abs(x_arr[0]-x_arr[1])**2))\n",
    "    H = np.zeros((len(x_arr),len(x_arr)))\n",
    "    for i,val in enumerate(x_arr):\n",
    "        H[i][i] = potential(val) + dx2\n",
    "        if (i-1)>=0:\n",
    "            H[i][i-1] = -2*dx2\n",
    "        if (i-2)>=0:\n",
    "            H[i][i-2] = dx2\n",
    "    return H"
   ]
  },
  {
   "cell_type": "code",
   "execution_count": null,
   "metadata": {},
   "outputs": [],
   "source": [
    "H = gen_better_CFD_Hamiltonian(x)\n",
    "H = csc_matrix(H) # convert to sparse storage"
   ]
  },
  {
   "cell_type": "code",
   "execution_count": null,
   "metadata": {},
   "outputs": [],
   "source": [
    "# biggest_abs_val = eigs(H,k=1)[0][0]\n",
    "biggest_abs_val = 60\n",
    "eig_vals,eig_vecs = eigsh(H, k=10, sigma=-biggest_abs_val)\n",
    "#pairs = eigs(H, k=len(x)-2) # assigns pairs to be a tuple with 2 elements; eigenvalues and eigenvectors\n",
    "#eig_vals = [x for x,y in sorted(zip(*pairs))] # *pairs unpacks pairs into two arrays\n",
    "#eig_vecs = [y for x,y in sorted(zip(*pairs))]"
   ]
  },
  {
   "cell_type": "code",
   "execution_count": null,
   "metadata": {},
   "outputs": [],
   "source": [
    "# Note: graphs are set to interactive mode, you can zoom in on sections by clicking the square at the bottom,\n",
    "#       then selecting an area on a graph.\n",
    "\n",
    "sns.mpl.pyplot.figure()\n",
    "sns.mpl.pyplot.subplot(221)\n",
    "sns.mpl.pyplot.plot(x,eig_vecs[:,0])\n",
    "sns.mpl.pyplot.ylabel('$\\psi(x)$')\n",
    "sns.mpl.pyplot.xlabel('x')\n",
    "sns.mpl.pyplot.title('eigenvector corresponding to\\n most negative eigenvalue')\n",
    "sns.mpl.pyplot.subplot(222)\n",
    "sns.mpl.pyplot.plot(x,eig_vecs[:,1])\n",
    "sns.mpl.pyplot.ylabel('$\\psi(x)$')\n",
    "sns.mpl.pyplot.xlabel('x')\n",
    "sns.mpl.pyplot.title('eigenvector corresponding to\\n second most negative eigenvalue')\n",
    "sns.mpl.pyplot.subplot(223)\n",
    "sns.mpl.pyplot.plot(x,eig_vecs[:,2])\n",
    "sns.mpl.pyplot.ylabel('$\\psi(x)$')\n",
    "sns.mpl.pyplot.xlabel('x')\n",
    "sns.mpl.pyplot.title('eigenvector corresponding to\\n third most negative eigenvalue')\n",
    "sns.mpl.pyplot.subplot(224)\n",
    "sns.mpl.pyplot.plot(x,eig_vecs[:,3])\n",
    "sns.mpl.pyplot.ylabel('$\\psi(x)$')\n",
    "sns.mpl.pyplot.xlabel('x')\n",
    "sns.mpl.pyplot.title('eigenvector corresponding to\\n fourth most negative eigenvalue')\n",
    "\n",
    "plt.subplots_adjust(top=0.9, bottom=0.1, left=0.10, right=0.99, hspace=0.6,\n",
    "                    wspace=0.35)"
   ]
  },
  {
   "cell_type": "code",
   "execution_count": null,
   "metadata": {},
   "outputs": [],
   "source": [
    "@autojit\n",
    "def expectation_wave(evals, evecs):\n",
    "    probs = np.abs(evals)**2\n",
    "    probs /= np.sum(probs)\n",
    "    scaled_evecs = probs*evecs\n",
    "    expectation = 0\n",
    "    for i in range(scaled_evecs.shape[1]):\n",
    "        expectation += scaled_evecs[:,i]\n",
    "    return expectation\n",
    "expectation = expectation_wave(eig_vals,eig_vecs)\n",
    "plt.figure()\n",
    "plt.plot(x,expectation)"
   ]
  },
  {
   "cell_type": "code",
   "execution_count": null,
   "metadata": {},
   "outputs": [],
   "source": [
    "fig = plt.figure()\n",
    "ax = fig.add_subplot(111)\n",
    "ax.plot(x,potential(x), label='potential', linewidth=2.5)\n",
    "ax.plot(x,eig_vecs[:,0]+0.1,label='1st')\n",
    "ax.plot(x,eig_vecs[:,1]+0.6,label='2nd')\n",
    "ax.plot(x,eig_vecs[:,2]+1.1,label='3rd')\n",
    "ax.plot(x,eig_vecs[:,3]+1.6,label='4th')\n",
    "#plt.ylabel('scaled values (not centred horizontally)')\n",
    "ax.set_yticklabels([])\n",
    "ax.set_yticks([])\n",
    "plt.xlabel('$x$')\n",
    "ax.legend()\n",
    "ax.annotate('note: all wavefunctions values shifted\\nin order to view simultaneously',\n",
    "               (110,0.5),\n",
    "               xytext=(150,1),\n",
    "               arrowprops=dict(facecolor='black', shrink=0.05))"
   ]
  },
  {
   "cell_type": "code",
   "execution_count": null,
   "metadata": {},
   "outputs": [],
   "source": []
  }
 ],
 "metadata": {
  "kernelspec": {
   "display_name": "Python 3",
   "language": "python",
   "name": "python3"
  },
  "language_info": {
   "codemirror_mode": {
    "name": "ipython",
    "version": 3
   },
   "file_extension": ".py",
   "mimetype": "text/x-python",
   "name": "python",
   "nbconvert_exporter": "python",
   "pygments_lexer": "ipython3",
   "version": "3.6.5"
  }
 },
 "nbformat": 4,
 "nbformat_minor": 2
}
